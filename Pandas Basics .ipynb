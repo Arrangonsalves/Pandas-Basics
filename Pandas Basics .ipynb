{
 "cells": [
  {
   "cell_type": "code",
   "execution_count": 1,
   "metadata": {},
   "outputs": [
    {
     "name": "stdout",
     "output_type": "stream",
     "text": [
      "       #                   Name   Type 1  Type 2  HP  Attack  Defense  \\\n",
      "0      1              Bulbasaur    Grass  Poison  45      49       49   \n",
      "1      2                Ivysaur    Grass  Poison  60      62       63   \n",
      "2      3               Venusaur    Grass  Poison  80      82       83   \n",
      "3      3  VenusaurMega Venusaur    Grass  Poison  80     100      123   \n",
      "4      4             Charmander     Fire     NaN  39      52       43   \n",
      "..   ...                    ...      ...     ...  ..     ...      ...   \n",
      "795  719                Diancie     Rock   Fairy  50     100      150   \n",
      "796  719    DiancieMega Diancie     Rock   Fairy  50     160      110   \n",
      "797  720    HoopaHoopa Confined  Psychic   Ghost  80     110       60   \n",
      "798  720     HoopaHoopa Unbound  Psychic    Dark  80     160       60   \n",
      "799  721              Volcanion     Fire   Water  80     110      120   \n",
      "\n",
      "     Sp. Atk  Sp. Def  Speed  Generation  Legendary  \n",
      "0         65       65     45           1      False  \n",
      "1         80       80     60           1      False  \n",
      "2        100      100     80           1      False  \n",
      "3        122      120     80           1      False  \n",
      "4         60       50     65           1      False  \n",
      "..       ...      ...    ...         ...        ...  \n",
      "795      100      150     50           6       True  \n",
      "796      160      110    110           6       True  \n",
      "797      150      130     70           6       True  \n",
      "798      170      130     80           6       True  \n",
      "799      130       90     70           6       True  \n",
      "\n",
      "[800 rows x 12 columns]\n"
     ]
    }
   ],
   "source": [
    "import pandas as pd\n",
    "\n",
    "#READING CSV FILE\n",
    "df=pd.read_csv('D:\\MachineLearning\\pokemon_data.csv')\n",
    "print(df)\n",
    "#print(df.head(3))\n",
    "#print(df.tail(5))\n"
   ]
  },
  {
   "cell_type": "code",
   "execution_count": null,
   "metadata": {},
   "outputs": [],
   "source": [
    "#READING EXCEL FILE\n",
    "df_xlsx= pd.read_excel('D:\\MachineLearning\\pokemon_data.xlsx')\n",
    "print(df_xlsx)\n",
    "#print(df_xlsx.head(4))\n",
    "#print(df_xlsx.tail(4))\n",
    "\n",
    "#READING TEXT FILE\n",
    "#df =pd.read_csv('pokemon_data.txt',delemiter='\\t')     #Delemiter is used to seperate columns /t used for tab\n",
    "#print(df)"
   ]
  },
  {
   "cell_type": "code",
   "execution_count": null,
   "metadata": {},
   "outputs": [],
   "source": [
    "#READ HEADERS\n",
    "\n",
    "\n",
    "print(df.columns)"
   ]
  },
  {
   "cell_type": "code",
   "execution_count": 3,
   "metadata": {},
   "outputs": [
    {
     "name": "stdout",
     "output_type": "stream",
     "text": [
      "0                  Bulbasaur\n",
      "1                    Ivysaur\n",
      "2                   Venusaur\n",
      "3      VenusaurMega Venusaur\n",
      "4                 Charmander\n",
      "               ...          \n",
      "795                  Diancie\n",
      "796      DiancieMega Diancie\n",
      "797      HoopaHoopa Confined\n",
      "798       HoopaHoopa Unbound\n",
      "799                Volcanion\n",
      "Name: Name, Length: 800, dtype: object\n"
     ]
    }
   ],
   "source": [
    "#READ EACH COLUMNS\n",
    "\n",
    "\n",
    "print(df['Name'])\n",
    "#print(df['Name'][0:5])\n",
    "#print(df[['Name','Type 1','HP']])"
   ]
  },
  {
   "cell_type": "code",
   "execution_count": null,
   "metadata": {},
   "outputs": [],
   "source": [
    "#READ EACH ROW\n",
    "#print(df.iloc[1])\n",
    "#print(df.iloc[2:4])                #used to print rows from s.no. 2 to 4\n",
    "\n",
    "#for index,row in df.iterrows():    #used to iterate through all the values ot the column index and row\n",
    "#    print(index, row['Name'])\n",
    "    \n",
    "df.loc[df['Type 1']==\"Fire\"]        #print all rows with Type 1 value as fire"
   ]
  },
  {
   "cell_type": "code",
   "execution_count": null,
   "metadata": {},
   "outputs": [],
   "source": [
    "#READ A SPECIFIC LOCATION(R,C)\n",
    "\n",
    "\n",
    "print(df.iloc[2,1])\n",
    "print(df.iloc[5,3])"
   ]
  },
  {
   "cell_type": "code",
   "execution_count": null,
   "metadata": {},
   "outputs": [],
   "source": [
    "#SORTING/DESCRIBING DATA\n",
    "\n",
    "\n",
    "#df.describe()        #Used to describe the data \n",
    "\n",
    "#df.sort_values('Name')                   #sort alphabetically A-Z\n",
    "#df.sort_values('Name',ascending=False)   #sort alphabetically Z-A\n",
    "\n",
    "#df.sort_values(['Type 1','HP']) #sorting on the basis of two columns \n",
    "#df.sort_values(['Type 1','HP'], ascending=[1,0])  #sorting Type 1 column in ascending order and HP column in descending order simultaneously "
   ]
  },
  {
   "cell_type": "code",
   "execution_count": null,
   "metadata": {},
   "outputs": [],
   "source": [
    "#MAKING CHANGES TO THE DATA\n",
    "\n",
    "#df['Total']=df['HP'] +df['Attack']+df['Defense'] +df['Sp. Atk'] +df['Sp. Def'] +df['Speed'] #Adding new column in dataframe\n",
    "#df.head(5)\n",
    "\n",
    "#OR\n",
    "\n",
    "#df['Total']=df.iloc[:,4:10].sum(axis=1)   #Adding new column in dataframe\n",
    "#df\n",
    "\n",
    "#df=df.drop(columns=['Total'])  #Droping a column\n",
    "#df\n",
    "\n",
    "cols=list(df.columns.values) #creating a list of columns so that we can easily pass it below instead stating each column\n",
    "df=df[cols[0:4] + [cols[-1]] + cols[4:12]]  #placing total column between type2 and HP\n",
    "df\n"
   ]
  },
  {
   "cell_type": "code",
   "execution_count": null,
   "metadata": {},
   "outputs": [],
   "source": [
    "#SAVING OUR DATA\n",
    "\n",
    "df.to_csv('modified.csv') #Save your modified data in csv\n",
    "#df.to_excel('modified.csv') #Save your modified data in excel file\n",
    "#df.to_txt('modified.csv') #Save your modified data in notepad or txt file\n",
    "\n"
   ]
  },
  {
   "cell_type": "code",
   "execution_count": null,
   "metadata": {
    "scrolled": false
   },
   "outputs": [],
   "source": [
    "#FILTERING DATA\n",
    "#new_df=df.loc[(df['Type 1']=='Grass') & (df['Type 2']=='Poison') &(df['HP']>70)] #considering all those rows whose type1 value is grass and type2 value is poison and hp<70\n",
    "#new_df\n",
    "\n",
    "\n",
    "import re #Importing Regular Expressions\n",
    "#df.loc[df['Type 1'].str.contains('Fire|Grass', regex=True)]               #filering all those columns whose Type= fire or grass\n",
    "#df.loc[df['Type 1'].str.contains('fire|grass', flags=re.I, regex=True)]   #flags=re.I means to ignore case(uppercase & lowercase)\n",
    "df.loc[df['Name'].str.contains('^pi[a-z]*',flags=re.I, regex=True)]        #All the pokemon whose name starts from 'pi'\n",
    "\n",
    "\n",
    "#new_df = new_df.reset_index(drop=True) \n",
    "#new_df.reset_index(drop=True, inplace=True) #reseting index and dropping old index column and changing it inside same file\n",
    "#new_df\n",
    "\n",
    "\n",
    "#df.loc[df['Name'].str.contains('Mega')]  #selecting all rows that contain mega in their name \n",
    "#df.loc[~df['Name'].str.contains('Mega')] #selecting all rows that doesn't contain mega in their name\n",
    "\n",
    "\n",
    "\n"
   ]
  },
  {
   "cell_type": "code",
   "execution_count": null,
   "metadata": {
    "scrolled": false
   },
   "outputs": [],
   "source": [
    "#CONDITIONAL CHANGES\n",
    "#df.loc[df['Type 1']=='Fire','Type 1']='Flamer'    #Changing all those rows whose type1= fire to type1=flamer\n",
    "#df.loc[df['Type 1']=='Flamer','Type 1']='Fire'    #Changing back to previous\n",
    "#df.loc[df['Type 1']=='Fire','Legendary']=True      #Changing all those rows whose type1= fire, making their legendary=true\n",
    "#df\n",
    "\n",
    "#df.loc[df['Total']> 500,['Generation','Legendary']]='TEST VALUE' #Changing multiple column value on the basis of single parameter\n",
    "df.loc[df['Total']> 500,['Generation','Legendary']]=['Test 1','Test 2'] #changing all those rows whose total>500, making their generation=test 1 and legendary=test 2\n",
    "df\n",
    "\n"
   ]
  },
  {
   "cell_type": "code",
   "execution_count": null,
   "metadata": {},
   "outputs": [],
   "source": [
    "#AGGREGATE STATISTICS\n",
    "df= pd.read_csv('modified.csv')\n",
    "#df.groupby(['Type 1']).mean().sort_values('Defense',ascending=False) #grouping by type1 and taking means of all those rows having same type1 and sorting by decreasing order of the defense parameter\n",
    "#df.groupby(['Type 1']).sum() #grouping by type1 and taking sum of all those rows having same type1 \n",
    "df['count']=1\n",
    "df.groupby(['Type 1']).count()['count'] # countng different pokemon according to type1\n",
    "df.groupby(['Type 1','Type 2']).count()['count'] #grouping by 2 different parameters\n"
   ]
  },
  {
   "cell_type": "code",
   "execution_count": null,
   "metadata": {},
   "outputs": [],
   "source": [
    "#WORKING WITH LARGE AMOUNT OF DATA(EX 20 GB)\n",
    "\n",
    "#for df in pd.read_csv('modified.csv',chunksize=5): #Dividing csv file into chunks of 5 rows\n",
    "    #print(\"CHUNK DF\")\n",
    "    #print(df)\n",
    "for df in pd.read_csv('modified.csv',chunksize=5):\n",
    "    results =df.groupby(['Type 1']).count()\n",
    "    \n",
    "    new_df=pd.concat([new_df,results])\n",
    "new_df\n",
    "    \n",
    "    \n"
   ]
  },
  {
   "cell_type": "code",
   "execution_count": null,
   "metadata": {},
   "outputs": [],
   "source": []
  }
 ],
 "metadata": {
  "kernelspec": {
   "display_name": "Python 3",
   "language": "python",
   "name": "python3"
  },
  "language_info": {
   "codemirror_mode": {
    "name": "ipython",
    "version": 3
   },
   "file_extension": ".py",
   "mimetype": "text/x-python",
   "name": "python",
   "nbconvert_exporter": "python",
   "pygments_lexer": "ipython3",
   "version": "3.8.5"
  }
 },
 "nbformat": 4,
 "nbformat_minor": 4
}
